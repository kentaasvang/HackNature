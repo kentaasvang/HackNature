{
 "cells": [
  {
   "cell_type": "markdown",
   "id": "ef5af80d",
   "metadata": {},
   "source": [
    "# Hacking Nature\n",
    "\n",
    "_TLDR; A strain of protein is a sequence of amino acids. As is it's a dead molecule, but once folded from a simple strain to a three-dimensional structure it comes alive and serves a purpose - This procedure is called protein folding and is triggered by rhibosomes._\n",
    "\n",
    "_Proteins are the driving forces for a whole lot of bodily mechanism, so when shit hits the fan during the folding process you could pick amongst a huge pile of dangerous side-effects._\n",
    "\n",
    "_This notebook seeks to investigate the genomes responsible for diseases related to protein misfolding. There's no real agenda - I'm just trying to learn something interesting._\n",
    "\n",
    "### 14.11.2021\n",
    "Reading about allergies I stumbled upon this term `protein folding`. As I dug into the mechanism of misfolded proteins it soon got apparent that it was the root cause of a whole variety of diseases affecting everything from our brains and nervous system to our heart, kidneys, liver and digestive tract. \n",
    "\n",
    "It seems different modulations of a class of proteins called [Amyloids](https://en.wikipedia.org/wiki/Amyloid) is the common denominator for a lot of these diseases, being the origin of things like Alzheimers, parkingsons, and several variants of allergies.\n",
    "\n",
    "_*What generally happens as a consequence of misfolded proteins -- in this case amyloids -- is that they form deposits around cells which disrupts the function of the tissue and organs. I.e brain and heart*_\n",
    "\n",
    "### [Protein Folding](https://en.wikipedia.org/wiki/Protein_folding)\n",
    "Protein folding is the physical process by which a protein chain is translated to its native three-dimensional structure, typically a \"folded\" conformation by which the protein becomes biologically functional.\n",
    "\n",
    "Many allergies are said to be caused by the incorrect folding of proteins, which causes our immune system not to produce antibodies for certain protein structures. _I have no clue as to what that means,_ but I wonder if it has any relation to the mechanisms of the spike protein found in coronaviruses.\n",
    "\n",
    "Alzheimers is another example of a condition caused by protein misfolding.\n",
    "\n",
    "### How does protein misfolding relate to allergies\n",
    "I don't yet know exactly how this relates to misfolded proteins. \n",
    "\n",
    "An allergic reaction happens when an antibody (immunoglobulin) connects to an antigen (antibodygen, allergen) and triggers the release of histamines which is an inflammatory chemical. \n",
    "\n",
    "A person breaths in an allergen. Immune-cells (Dendritic Cells) transport the allergen-molecole to the lymph nodes presenting it to an Naive T-cell. Here one of two things happen; it's ignored, or we start making specific immunoglobulin which causes a type 1 allergic reaction. \n",
    "\n",
    "In many ways the dendritic cell is responsible for the person being allergic or not. Since it eithers present the allergen to the T-cell with a costimulatory molecule triggering the production of specific immunoglobulin-cells which dialites the blod vessels -- making tissue around it more likely to swell -- and causing the bronchus to contrict, making it harder to breath. Or.. the dendritic cell presents the allergen with a tolerogenic molecule which results in mostly nothing.\n",
    "\n",
    "### [Diseases related to incorrect protein folding](https://www.news-medical.net/life-sciences/Protein-Folding.aspx)\n",
    "Alzheimer's disease is an example of a neurodegenerative condition caused by protein misfolding. This disease is characterized by dense plaques in the brain caused by misfolding of the secondary β-sheets of the fibrillar β-amyloid proteins present in brain matter. Huntington's disease and Parkinson's disease are other examples of neurodegenerative diseases associated with protein misfolding.\n",
    "\n",
    "Cystic fibrosis (CF) is a fatal disease caused by misfolding of the cystic fibrosis transmembrane conductance regulator (CFTR) protein. In most cases of CF, the phenylalanine at position 508 of the CFTR is deleted, causing misfolding of the regulator protein. Several allergies have also been shown to be caused by incorrect protein folding.\n",
    "\n",
    "**A protein is consideres to be misfolded if it cannot achieve its normal native state**\n",
    "\n",
    "\n",
    "### Some Papers and Wikipedia articles\n",
    "\n",
    "* [Modulation of β-Amyloid Fibril Formation in Alzheimer’s Disease by Microglia and Infection](https://www.frontiersin.org/articles/10.3389/fnmol.2020.609073/full)\n",
    "* [A Cell Surface Receptor Complex for Fibrillar β-Amyloid Mediates Microglial Activation](https://www.ncbi.nlm.nih.gov/pmc/articles/PMC6742111/)\n",
    "* [Amyloidosis](https://en.wikipedia.org/wiki/Amyloidosis)\n",
    "* [Prions and the Potential Transmissibility of Protein Misfolding Diseases*](https://www.ncbi.nlm.nih.gov/pmc/articles/PMC4784231/)\n",
    "* [Allergen-Specific Antibodies Regulate Secondary Allergen-Specific Immune Responses](https://www.ncbi.nlm.nih.gov/pmc/articles/PMC6344431/)\n",
    "* [IgE cross-linking critically impairs human monocyte function by blocking phagocytosis](https://pubmed.ncbi.nlm.nih.gov/23374271/)\n",
    "*[Diseases of the immune system](https://books.google.no/books?id=chs_lilPFLwC&pg=PA159&redir_esc=y#v=onepage&q&f=false)\n",
    "*[Costimulatory molecules on immunogenic versus tolerogenic human dendritic cells](https://www.frontiersin.org/articles/10.3389/fimmu.2013.00082/full)\n",
    "\n",
    "### NOTES\n",
    "- Denaturation is the opposite of protein folding, which turns the folded protein back to it's unfolded state. In other words the protein is dead. This generally happens when you burn or cook something. I wonder what consequences this has (if any), and if it's connected to processed foods [causing cancer](https://www.bmj.com/content/365/bmj.l2289). \n"
   ]
  },
  {
   "cell_type": "code",
   "execution_count": 70,
   "id": "566614f8",
   "metadata": {},
   "outputs": [],
   "source": [
    "# Amyloid precursor protein genome\n",
    "# https://www.ncbi.nlm.nih.gov/nuccore/NC_000021.9?report=genbank&from=25880550&to=26171128&strand=true\n",
    "with open(\"amyloid_precursor_protein.txt\") as f:\n",
    "    APP = f.read()"
   ]
  },
  {
   "cell_type": "code",
   "execution_count": 73,
   "id": "5c767b21",
   "metadata": {},
   "outputs": [
    {
     "data": {
      "text/plain": [
       "290579"
      ]
     },
     "execution_count": 73,
     "metadata": {},
     "output_type": "execute_result"
    }
   ],
   "source": [
    "genome = \"\"\n",
    "\n",
    "for i in APP.split(\"\\n\"):\n",
    "    for c in \"0123456789 \":\n",
    "        i = i.replace(c, \"\")\n",
    "    genome += i\n",
    "    \n",
    "# number of base-pairs\n",
    "genome = genome.upper()\n",
    "len(genome)"
   ]
  },
  {
   "cell_type": "code",
   "execution_count": 74,
   "id": "0c69b172",
   "metadata": {},
   "outputs": [
    {
     "data": {
      "text/plain": [
       "82576"
      ]
     },
     "execution_count": 74,
     "metadata": {},
     "output_type": "execute_result"
    }
   ],
   "source": [
    "import zlib\n",
    "a = zlib.compress(genome.encode(\"utf-8\"))\n",
    "len(a)"
   ]
  },
  {
   "cell_type": "code",
   "execution_count": 77,
   "id": "e75d62b4",
   "metadata": {},
   "outputs": [],
   "source": [
    "def DNA_to_mRNA(DNA):\n",
    "    compliment = {\n",
    "        \"C\": \"G\",\n",
    "        \"G\": \"C\",\n",
    "        \"A\": \"U\",\n",
    "        \"T\": \"A\"\n",
    "    }\n",
    "    ret_val = \"\"\n",
    "    for l in DNA:\n",
    "        ret_val += compliment[l]\n",
    "    return ret_val\n",
    "\n",
    "mRNA = DNA_to_mRNA(genome)"
   ]
  },
  {
   "cell_type": "code",
   "execution_count": 92,
   "id": "9343e5f4",
   "metadata": {},
   "outputs": [
    {
     "data": {
      "text/plain": [
       "616"
      ]
     },
     "execution_count": 92,
     "metadata": {},
     "output_type": "execute_result"
    }
   ],
   "source": [
    "# see if we have a start codon\n",
    "mRNA.find(\"AUG\")"
   ]
  },
  {
   "cell_type": "code",
   "execution_count": 180,
   "id": "006b9b7a",
   "metadata": {},
   "outputs": [
    {
     "data": {
      "text/plain": [
       "'AUGGGGGGUUCUGGAAUUGGGUUCAGAAAUUACGUCUCUUCGGCCCCCAGGCAGUUACCCUGGGGAGAGGAGAGGCGGGGGCGA'"
      ]
     },
     "execution_count": 180,
     "metadata": {},
     "output_type": "execute_result"
    }
   ],
   "source": [
    "# small set of genome\n",
    "mRNA[616:700]"
   ]
  },
  {
   "cell_type": "code",
   "execution_count": 198,
   "id": "2f4e7192",
   "metadata": {},
   "outputs": [
    {
     "name": "stdout",
     "output_type": "stream",
     "text": [
      "['AUG', 'GGG', 'GGU', 'UCU', 'GGA', 'AUU', 'GGG', 'UUC', 'AGA', 'AAU', 'UAC', 'GUC', 'UCU', 'UCG', 'GCC', 'CCC', 'AGG', 'CAG', 'UUA', 'CCC', 'UGG', 'GGA', 'GAG', 'GAG', 'AGG', 'CGG', 'GGG', 'CGA', 'ACG', 'CCU', 'GCA', 'GGU', 'CGC', 'GUA', 'GGG', 'GCG', 'AAA', 'GCC', 'GGG', 'UCG', 'GGA', 'CGG', 'GGU', 'CCC', 'UCA', 'GCG', 'CGA', 'GGC', 'CGG', 'GCG', 'ACU', 'CUC', 'CCU', 'CGC', 'CCG', 'CUC', 'CGC', 'GAC', 'CAG', 'AGG', 'GAC', 'CAA', 'GGC', 'GCG', 'GUC', 'GGG', 'CCC', 'CGC', 'UCU', 'UCC', 'CAU', 'CCC', 'CCG', 'CUG', 'GGA', 'CUC', 'GGG', 'UCU', 'GGG', 'GCU', 'GAA', 'UCA', 'GGG', 'ACG', 'GAA', 'CCU', 'UCG', 'CCC', 'CCA', 'GCC', 'CCC', 'UCC', 'GCU', 'CUC', 'UGU', 'AAG', 'UCU', 'GUC', 'CCC', 'CCU', 'UCC', 'CCC', 'UUC', 'CUC', 'GUG', 'CAC', 'CCC', 'UUU', 'UGG', 'CUU', 'UUG', 'CGU', 'CGC', 'AGG', 'GAU', 'UUC', 'GGU', 'CAG', 'GAA', 'GCG', 'AGA', 'ACU', 'UAG']\n",
      "CAA\n"
     ]
    }
   ],
   "source": [
    "def find_codons(mRNA):\n",
    "    # GGG GGU UCU\n",
    "    codons = []\n",
    "    stops = [\"UAA\", \"UAG\", \"UGA\"]\n",
    "    start_i = mRNA.find(\"AUG\")\n",
    "    \n",
    "    if start_i == -1:\n",
    "        return codons, False\n",
    "    \n",
    "    n_mRNA = mRNA[start_i:]\n",
    "    ii = 0\n",
    "    for i in range(0, len(n_mRNA), 3):\n",
    "        codon = n_mRNA[i:i+3]\n",
    "        codons.append(codon)\n",
    "        if codon in stops:\n",
    "            ii = i\n",
    "            break\n",
    "        \n",
    "    return codons, start_i+ii+3\n",
    "    \n",
    "codons, l_index = find_codons(mRNA)\n",
    "print(codons)\n",
    "print(mRNA[l_index:l_index+3])"
   ]
  },
  {
   "cell_type": "code",
   "execution_count": 199,
   "id": "e0fd50d2",
   "metadata": {},
   "outputs": [
    {
     "ename": "KeyboardInterrupt",
     "evalue": "",
     "output_type": "error",
     "traceback": [
      "\u001b[0;31m---------------------------------------------------------------------------\u001b[0m",
      "\u001b[0;31mKeyboardInterrupt\u001b[0m                         Traceback (most recent call last)",
      "\u001b[0;32m/var/folders/zn/r2jcr31s5975kwynr7n96d4c0000gn/T/ipykernel_2830/502149327.py\u001b[0m in \u001b[0;36m<module>\u001b[0;34m\u001b[0m\n\u001b[1;32m      4\u001b[0m     \u001b[0mcodons\u001b[0m\u001b[0;34m,\u001b[0m \u001b[0mi\u001b[0m \u001b[0;34m=\u001b[0m \u001b[0mfind_codons\u001b[0m\u001b[0;34m(\u001b[0m\u001b[0mo_mRNA\u001b[0m\u001b[0;34m)\u001b[0m\u001b[0;34m\u001b[0m\u001b[0;34m\u001b[0m\u001b[0m\n\u001b[1;32m      5\u001b[0m     \u001b[0mall_codons\u001b[0m\u001b[0;34m.\u001b[0m\u001b[0mappend\u001b[0m\u001b[0;34m(\u001b[0m\u001b[0mcodons\u001b[0m\u001b[0;34m)\u001b[0m\u001b[0;34m\u001b[0m\u001b[0;34m\u001b[0m\u001b[0m\n\u001b[0;32m----> 6\u001b[0;31m     \u001b[0mo_mRNA\u001b[0m \u001b[0;34m=\u001b[0m \u001b[0mo_mRNA\u001b[0m\u001b[0;34m[\u001b[0m\u001b[0mi\u001b[0m\u001b[0;34m:\u001b[0m\u001b[0;34m]\u001b[0m\u001b[0;34m\u001b[0m\u001b[0;34m\u001b[0m\u001b[0m\n\u001b[0m\u001b[1;32m      7\u001b[0m \u001b[0;34m\u001b[0m\u001b[0m\n\u001b[1;32m      8\u001b[0m \u001b[0mprint\u001b[0m\u001b[0;34m(\u001b[0m\u001b[0mall_codons\u001b[0m\u001b[0;34m)\u001b[0m\u001b[0;34m\u001b[0m\u001b[0;34m\u001b[0m\u001b[0m\n",
      "\u001b[0;31mKeyboardInterrupt\u001b[0m: "
     ]
    }
   ],
   "source": [
    "all_codons = []\n",
    "o_mRNA = mRNA\n",
    "\n",
    "while True:\n",
    "    codons, i = find_codons(o_mRNA)\n",
    "    \n",
    "    all_codons.append(codons)\n",
    "    o_mRNA = o_mRNA[i:]\n",
    "    \n",
    "    \n",
    "print(all_codons)"
   ]
  },
  {
   "cell_type": "code",
   "execution_count": null,
   "id": "6eeb37b4",
   "metadata": {},
   "outputs": [],
   "source": []
  }
 ],
 "metadata": {
  "kernelspec": {
   "display_name": "Python 3 (ipykernel)",
   "language": "python",
   "name": "python3"
  },
  "language_info": {
   "codemirror_mode": {
    "name": "ipython",
    "version": 3
   },
   "file_extension": ".py",
   "mimetype": "text/x-python",
   "name": "python",
   "nbconvert_exporter": "python",
   "pygments_lexer": "ipython3",
   "version": "3.9.7"
  }
 },
 "nbformat": 4,
 "nbformat_minor": 5
}
